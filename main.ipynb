{
 "metadata": {
  "language_info": {
   "codemirror_mode": {
    "name": "ipython",
    "version": 3
   },
   "file_extension": ".py",
   "mimetype": "text/x-python",
   "name": "python",
   "nbconvert_exporter": "python",
   "pygments_lexer": "ipython3",
   "version": "3.8.9-final"
  },
  "orig_nbformat": 2,
  "kernelspec": {
   "name": "python38964bit3894c8ea97d6fb94bd78d79865699964d87",
   "display_name": "Python 3.8.9 64-bit ('3.8.9')"
  }
 },
 "nbformat": 4,
 "nbformat_minor": 2,
 "cells": [
  {
   "source": [
    "# проверить число на одинаковые цифры\n",
    "value = '1111'\n",
    "len(value) == value.count(value[0])"
   ],
   "cell_type": "code",
   "metadata": {},
   "execution_count": 47,
   "outputs": [
    {
     "output_type": "execute_result",
     "data": {
      "text/plain": [
       "True"
      ]
     },
     "metadata": {},
     "execution_count": 47
    }
   ]
  },
  {
   "source": [
    "n = 0\n",
    "d = set()\n",
    "st = 0\n",
    "print(d)\n",
    "s = 'МОЛОКО'\n",
    "for a in s:\n",
    "    for b in s:\n",
    "        for c in s:\n",
    "            for k in s:\n",
    "                for e in s:\n",
    "                    for f in s:\n",
    "                        st = a + b + c + k + e + f\n",
    "                        if st.count('М') == s.count('М') and st.count('О') == s.count('О') and st.count('Л') == s.count('Л') and st.count('К') == s.count('К'):\n",
    "                            d.add(st)\n",
    "print(d)\n",
    "print(len(d))"
   ],
   "cell_type": "code",
   "metadata": {},
   "execution_count": 8,
   "outputs": [
    {
     "output_type": "stream",
     "name": "stdout",
     "text": [
      "set()\n{'МОЛОКО', 'МЛКООО', 'КОООМЛ', 'КОМОЛО', 'ОКООМЛ', 'КЛМООО', 'ООМЛОК', 'ЛОООМК', 'КООМОЛ', 'ООКОЛМ', 'КЛОООМ', 'ЛОМКОО', 'КОМЛОО', 'ОМОКОЛ', 'ООЛКОМ', 'ОМКОЛО', 'ОЛКООМ', 'КМОООЛ', 'ОЛООМК', 'КЛООМО', 'ОООЛКМ', 'ОМООКЛ', 'ОЛМООК', 'ОООЛМК', 'ОКООЛМ', 'КЛОМОО', 'ООМКЛО', 'ООЛМКО', 'ОКОЛМО', 'ОКОМЛО', 'МОЛКОО', 'ЛООМОК', 'МЛОКОО', 'ООКЛМО', 'ЛКОООМ', 'ОМОКЛО', 'ООКМЛО', 'ООКОМЛ', 'ОЛКМОО', 'ОКМООЛ', 'ЛКООМО', 'КООЛМО', 'МОКЛОО', 'ОКОЛОМ', 'КОЛМОО', 'ЛОКОМО', 'ЛКОМОО', 'ЛКМООО', 'МКОЛОО', 'ОМКЛОО', 'ОМООЛК', 'КООМЛО', 'МОЛООК', 'МОООЛК', 'ОМКООЛ', 'ОКМОЛО', 'МООКЛО', 'МООЛОК', 'ЛОКМОО', 'МЛОООК', 'ОЛОМКО', 'ОООКМЛ', 'ОМОЛОК', 'ЛООКМО', 'ОЛМОКО', 'КОЛОМО', 'ЛООМКО', 'ООМОКЛ', 'ЛОКООМ', 'КМООЛО', 'МООКОЛ', 'ООЛОКМ', 'МКЛООО', 'ЛМООКО', 'МООЛКО', 'МОКОЛО', 'ОМЛООК', 'КОООЛМ', 'МОКООЛ', 'ОМОЛКО', 'МКОООЛ', 'ОМЛКОО', 'ОЛОМОК', 'ОМЛОКО', 'ОКМЛОО', 'ОООКЛМ', 'ОЛМКОО', 'КООЛОМ', 'ООЛМОК', 'ОКЛОМО', 'ООМЛКО', 'ОЛКОМО', 'ОЛООКМ', 'ЛОМОКО', 'ЛМКООО', 'ОЛОКОМ', 'ЛМОООК', 'ОКЛМОО', 'КМОЛОО', 'КОМООЛ', 'КМЛООО', 'ОЛОКМО', 'ЛОМООК', 'ОКЛООМ', 'ОКОМОЛ', 'ООЛКМО', 'ООКМОЛ', 'ЛОООКМ', 'ЛООКОМ', 'ОООМКЛ', 'ООЛОМК', 'МОООКЛ', 'КОЛООМ', 'ООМОЛК', 'ООКЛОМ', 'ЛМОКОО', 'МКООЛО', 'МЛООКО', 'ОООМЛК', 'ООМКОЛ'}\n120\n"
     ]
    }
   ]
  },
  {
   "cell_type": "code",
   "execution_count": 9,
   "metadata": {},
   "outputs": [
    {
     "output_type": "stream",
     "name": "stdout",
     "text": [
      "120\n"
     ]
    }
   ],
   "source": [
    "# определите максимально возможное количество цифр 3 которое может получиться в результате применения представленного ниже алгоритма в строке состояющей из 30 цифр, 30 цифр 4 и 30 цифр 5, идущих в произвольномм порядке\n",
    "s = '4' * 30 + '5' * 30 + '3' * 30\n",
    "while ('43' in s) or ('53' in s):\n",
    "  if '43' in s:\n",
    "    s = s.replace('43', '33', 1)\n",
    "  else:\n",
    "    s = s.replace('53', '433', 1)\n",
    "print(s.count('3'))"
   ]
  },
  {
   "cell_type": "code",
   "execution_count": 10,
   "metadata": {},
   "outputs": [
    {
     "output_type": "stream",
     "name": "stdout",
     "text": [
      "6\n"
     ]
    }
   ],
   "source": [
    "# Узнать длину самого длинного числа из строчки\n",
    "def fun(x):\n",
    "    a = 0\n",
    "    while x > 0:\n",
    "        a += 1 \n",
    "        x //= 10\n",
    "    return a\n",
    "    \n",
    "max_value = 0\n",
    "value1 = '123 123456'\n",
    "value1 = value1.split()\n",
    "for i in value1:\n",
    "    if fun(int(i)) > max_value:\n",
    "        max_value = fun(int(i))\n",
    "print(max_value)"
   ]
  },
  {
   "cell_type": "code",
   "execution_count": 11,
   "metadata": {},
   "outputs": [
    {
     "output_type": "stream",
     "name": "stdout",
     "text": [
      "777\n"
     ]
    }
   ],
   "source": [
    "# какая строка получится в результате применения приведённой ниже программы к строке, состояющей из 128 идущих подряд \"4\" и следом идущих подряд 67 \"7\". В ответ запишите полученную строку\n",
    "s = '4' * 128 + '7' * 67\n",
    "while ('444' in s) or ('7777' in s):\n",
    "  if '444' in s:\n",
    "    s = s.replace('444', '7', 1)\n",
    "  else:\n",
    "    s = s.replace('7777', '44', 1)\n",
    "print(s)"
   ]
  },
  {
   "cell_type": "code",
   "execution_count": 36,
   "metadata": {},
   "outputs": [],
   "source": [
    "# делители\n",
    "def f(n):\n",
    "  k = 1\n",
    "  d = 2\n",
    "  n = 0\n",
    "  while n > d * d:\n",
    "    if n % d == 0:\n",
    "      k = k + 2\n",
    "      d = d + 1\n",
    "      if k > 2:\n",
    "        m = 0\n",
    "        break\n",
    "  if n == d * d:\n",
    "    k = k + 1\n",
    "  if k == 2:\n",
    "    return 1\n",
    "  else:\n",
    "    return 0\n",
    "\n",
    "for i in range(191600, 192020 + 1):\n",
    "    if f(i) == 1:\n",
    "        d = 2\n",
    "        while i > d * d:\n",
    "            if i % d == 0:\n",
    "                print(i, i // d)\n",
    "            d = d + 1"
   ]
  }
 ]
}