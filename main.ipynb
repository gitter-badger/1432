{
 "metadata": {
  "language_info": {
   "codemirror_mode": {
    "name": "ipython",
    "version": 3
   },
   "file_extension": ".py",
   "mimetype": "text/x-python",
   "name": "python",
   "nbconvert_exporter": "python",
   "pygments_lexer": "ipython3",
   "version": "3.8.9-final"
  },
  "orig_nbformat": 2,
  "kernelspec": {
   "name": "python38964bit389c00b7c2e5d5843d9bc9d4fbec6a1384a",
   "display_name": "Python 3.8.9 64-bit ('3.8.9')"
  }
 },
 "nbformat": 4,
 "nbformat_minor": 2,
 "cells": [
  {
   "cell_type": "code",
   "execution_count": 3,
   "metadata": {},
   "outputs": [
    {
     "output_type": "stream",
     "name": "stdout",
     "text": [
      "3148\n"
     ]
    }
   ],
   "source": [
    "# перевод числа в СИ\n",
    "value = 1000\n",
    "sys = 16\n",
    "result = ''\n",
    "while value != 0:\n",
    "    result = str(value % sys) + result\n",
    "    value = value // sys\n",
    "print(result)\n"
   ]
  },
  {
   "source": [
    "# проверить число на одинаковые цифры\n",
    "value = '1111'\n",
    "len(value) == value.count(value[0])"
   ],
   "cell_type": "code",
   "metadata": {},
   "execution_count": null,
   "outputs": []
  },
  {
   "source": [
    "n = 0\n",
    "d = set()\n",
    "st = 0\n",
    "print(d)\n",
    "s = 'МОЛОКО'\n",
    "for a in s:\n",
    "    for b in s:\n",
    "        for c in s:\n",
    "            for k in s:\n",
    "                for e in s:\n",
    "                    for f in s:\n",
    "                        st = a + b + c + k + e + f\n",
    "                        if st.count('М') == s.count('М') and st.count('О') == s.count('О') and st.count('Л') == s.count('Л') and st.count('К') == s.count('К'):\n",
    "                            d.add(st)\n",
    "print(d)\n",
    "print(len(d))"
   ],
   "cell_type": "code",
   "metadata": {},
   "execution_count": 11,
   "outputs": [
    {
     "output_type": "stream",
     "name": "stdout",
     "text": [
      "set()\n{'МООЛОК', 'КОЛМОО', 'ОЛКООМ', 'КОМЛОО', 'ЛКОООМ', 'КЛОМОО', 'ОЛОКМО', 'ЛМОООК', 'ЛОООКМ', 'ЛМКООО', 'ООЛКОМ', 'ОООКЛМ', 'ЛОМОКО', 'ЛКОМОО', 'КОООЛМ', 'ОКОЛМО', 'КМОООЛ', 'КМООЛО', 'МЛОООК', 'ОООЛМК', 'МОКЛОО', 'ООМЛКО', 'ОООЛКМ', 'МКОООЛ', 'ОМКОЛО', 'ЛКМООО', 'МКОЛОО', 'ООМКЛО', 'ОМОЛОК', 'ОКМООЛ', 'ОКООМЛ', 'ЛОООМК', 'ОКЛМОО', 'ООМОЛК', 'ОМООКЛ', 'ОООМКЛ', 'ООМОКЛ', 'ООЛМКО', 'КООЛМО', 'КМОЛОО', 'ОМЛООК', 'ОКЛООМ', 'КООЛОМ', 'ЛООМОК', 'ОООКМЛ', 'ОКМЛОО', 'ОМОКЛО', 'МООКОЛ', 'ОЛМОКО', 'ЛОКМОО', 'ОЛООКМ', 'КОЛОМО', 'ОЛМООК', 'ООЛКМО', 'ОМООЛК', 'ОЛКОМО', 'МОЛООК', 'ЛМОКОО', 'КЛООМО', 'КЛОООМ', 'МОКООЛ', 'ООЛОМК', 'МООКЛО', 'ОКМОЛО', 'ОМОКОЛ', 'МЛОКОО', 'ОЛОМКО', 'ОМОЛКО', 'МООЛКО', 'КООМЛО', 'ОЛОКОМ', 'ООМКОЛ', 'КЛМООО', 'ОМЛОКО', 'ОКЛОМО', 'ООЛОКМ', 'МЛКООО', 'ЛОМКОО', 'МОЛКОО', 'ОЛООМК', 'ОМЛКОО', 'ОМКООЛ', 'ООКОЛМ', 'МОООКЛ', 'ОЛКМОО', 'ЛОМООК', 'ЛКООМО', 'ЛМООКО', 'КОЛООМ', 'ООКОМЛ', 'ООКМЛО', 'КОМООЛ', 'ОКОЛОМ', 'МОЛОКО', 'МКЛООО', 'ОООМЛК', 'ООКЛМО', 'КООМОЛ', 'ОЛМКОО', 'МОООЛК', 'ОКООЛМ', 'ЛООКМО', 'ООКЛОМ', 'ОКОМОЛ', 'ОМКЛОО', 'ОЛОМОК', 'ЛОКОМО', 'ЛООМКО', 'ООЛМОК', 'МОКОЛО', 'МЛООКО', 'ЛОКООМ', 'ЛООКОМ', 'МКООЛО', 'ООКМОЛ', 'КОООМЛ', 'ОКОМЛО', 'КОМОЛО', 'КМЛООО', 'ООМЛОК'}\n120\n"
     ]
    }
   ]
  },
  {
   "cell_type": "code",
   "execution_count": null,
   "metadata": {},
   "outputs": [],
   "source": [
    "# Узнать длину самого длинного числа из строчки\n",
    "def fun(x):\n",
    "    a = 0\n",
    "    while x > 0:\n",
    "        a += 1 \n",
    "        x //= 10\n",
    "    return a\n",
    "    \n",
    "max_value = 0\n",
    "value1 = '123 123456'\n",
    "value1 = value1.split()\n",
    "for i in value1:\n",
    "    if fun(int(i)) > max_value:\n",
    "        max_value = fun(int(i))\n",
    "print(max_value)"
   ]
  },
  {
   "cell_type": "code",
   "execution_count": 8,
   "metadata": {},
   "outputs": [
    {
     "output_type": "stream",
     "name": "stdout",
     "text": [
      "777\n"
     ]
    }
   ],
   "source": [
    "# какая строка получится в результате применения приведённой ниже программы к строке, состояющей из 128 идущих подряд \"4\" и следом идущих подряд 67 \"7\". В ответ запишите полученную строку\n",
    "s = '4' * 128 + '7' * 67\n",
    "while ('444' in s) or ('7777' in s):\n",
    "  if '444' in s:\n",
    "    s = s.replace('444', '7', 1)\n",
    "  else:\n",
    "    s = s.replace('7777', '44', 1)\n",
    "print(s)"
   ]
  }
 ]
}