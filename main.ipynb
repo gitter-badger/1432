{
 "metadata": {
  "language_info": {
   "codemirror_mode": {
    "name": "ipython",
    "version": 3
   },
   "file_extension": ".py",
   "mimetype": "text/x-python",
   "name": "python",
   "nbconvert_exporter": "python",
   "pygments_lexer": "ipython3",
   "version": 3
  },
  "orig_nbformat": 2
 },
 "nbformat": 4,
 "nbformat_minor": 2,
 "cells": [
  {
   "source": [
    "n = 0\n",
    "d = set()\n",
    "st = 0\n",
    "print(d)\n",
    "s = 'МОЛОКО'\n",
    "for a in s:\n",
    "    for b in s:\n",
    "        for c in s:\n",
    "            for k in s:\n",
    "                for e in s:\n",
    "                    for f in s:\n",
    "                        st = a + b + c + k + e + f\n",
    "                        if st.count('М') == s.count('М') and st.count('О') == s.count('О') and st.count('Л') == s.count('Л') and st.count('К') == s.count('К'):\n",
    "                            d.add(st)\n",
    "print(d)\n",
    "print(len(d))"
   ],
   "cell_type": "code",
   "metadata": {},
   "execution_count": null,
   "outputs": []
  }
 ]
}