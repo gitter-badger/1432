{
 "metadata": {
  "language_info": {
   "codemirror_mode": {
    "name": "ipython",
    "version": 3
   },
   "file_extension": ".py",
   "mimetype": "text/x-python",
   "name": "python",
   "nbconvert_exporter": "python",
   "pygments_lexer": "ipython3",
   "version": "3.8.9-final"
  },
  "orig_nbformat": 2,
  "kernelspec": {
   "name": "python38964bit389c00b7c2e5d5843d9bc9d4fbec6a1384a",
   "display_name": "Python 3.8.9 64-bit ('3.8.9')"
  }
 },
 "nbformat": 4,
 "nbformat_minor": 2,
 "cells": [
  {
   "cell_type": "code",
   "execution_count": 7,
   "metadata": {},
   "outputs": [
    {
     "output_type": "stream",
     "name": "stdout",
     "text": [
      "1111101000\n"
     ]
    }
   ],
   "source": [
    "# перевод числа в СИ\n",
    "value = 1000\n",
    "sys = 2\n",
    "result = ''\n",
    "while value != 0:\n",
    "    result = str(value % sys) + result\n",
    "    value = value // sys\n",
    "print(result)"
   ]
  },
  {
   "source": [
    "# проверить число на одинаковые цифры\n",
    "value = '1111'\n",
    "len(value) == value.count(value[0])"
   ],
   "cell_type": "code",
   "metadata": {},
   "execution_count": null,
   "outputs": []
  },
  {
   "source": [
    "n = 0\n",
    "d = set()\n",
    "st = 0\n",
    "print(d)\n",
    "s = 'МОЛОКО'\n",
    "for a in s:\n",
    "    for b in s:\n",
    "        for c in s:\n",
    "            for k in s:\n",
    "                for e in s:\n",
    "                    for f in s:\n",
    "                        st = a + b + c + k + e + f\n",
    "                        if st.count('М') == s.count('М') and st.count('О') == s.count('О') and st.count('Л') == s.count('Л') and st.count('К') == s.count('К'):\n",
    "                            d.add(st)\n",
    "print(d)\n",
    "print(len(d))"
   ],
   "cell_type": "code",
   "metadata": {},
   "execution_count": 3,
   "outputs": [
    {
     "output_type": "stream",
     "name": "stdout",
     "text": [
      "set()\n{'ОООКМЛ', 'ООЛМОК', 'ЛКОМОО', 'МКООЛО', 'МКОЛОО', 'ООЛОМК', 'ЛОООКМ', 'ЛОКОМО', 'МООЛКО', 'ЛМОКОО', 'МОЛОКО', 'КОМОЛО', 'КОМЛОО', 'КООМОЛ', 'ОМОКЛО', 'ОМКЛОО', 'ОЛКОМО', 'ООКМЛО', 'КОООЛМ', 'ООЛКОМ', 'ЛКОООМ', 'ОКОЛОМ', 'КМОООЛ', 'ОКМЛОО', 'ЛОМООК', 'ОООМКЛ', 'МКЛООО', 'ЛОКООМ', 'МЛОООК', 'ООМОКЛ', 'ООМКЛО', 'ОМОКОЛ', 'ОМЛОКО', 'КМЛООО', 'ОКМООЛ', 'ОМЛООК', 'ООКОЛМ', 'ОЛКМОО', 'МОКЛОО', 'ОМООКЛ', 'МООКЛО', 'ЛМОООК', 'ЛООМОК', 'КООМЛО', 'ОООКЛМ', 'ООМЛКО', 'ОЛООКМ', 'МОКООЛ', 'ЛКООМО', 'ОМЛКОО', 'КОМООЛ', 'КЛМООО', 'КЛООМО', 'ООЛКМО', 'ЛОООМК', 'ОМООЛК', 'ОКЛООМ', 'ЛОМКОО', 'МОЛКОО', 'ОМОЛКО', 'КЛОООМ', 'КМООЛО', 'ОКЛМОО', 'ЛООМКО', 'МЛООКО', 'МООЛОК', 'ООЛМКО', 'ОЛОМОК', 'ЛООКМО', 'ОКМОЛО', 'КООЛМО', 'ОЛОМКО', 'ООМЛОК', 'ОЛКООМ', 'ОКОЛМО', 'ОООЛМК', 'ОКОМОЛ', 'ОООЛКМ', 'ОООМЛК', 'МОООЛК', 'МЛОКОО', 'ОМОЛОК', 'КОЛОМО', 'ОМКОЛО', 'ООМОЛК', 'ООКЛОМ', 'ОЛОКМО', 'ООКЛМО', 'ООМКОЛ', 'МКОООЛ', 'ЛКМООО', 'ОКООЛМ', 'МОЛООК', 'ЛОКМОО', 'КОЛООМ', 'ООКОМЛ', 'ОЛМОКО', 'ОЛМКОО', 'МОООКЛ', 'КМОЛОО', 'ОЛМООК', 'КОООМЛ', 'КОЛМОО', 'МООКОЛ', 'ОЛОКОМ', 'ЛМООКО', 'ОКООМЛ', 'ОЛООМК', 'КООЛОМ', 'ООЛОКМ', 'ЛМКООО', 'ЛОМОКО', 'МОКОЛО', 'ОМКООЛ', 'МЛКООО', 'ЛООКОМ', 'КЛОМОО', 'ООКМОЛ', 'ОКЛОМО', 'ОКОМЛО'}\n120\n"
     ]
    }
   ]
  }
 ]
}