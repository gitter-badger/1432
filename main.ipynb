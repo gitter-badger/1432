{
 "metadata": {
  "language_info": {
   "codemirror_mode": {
    "name": "ipython",
    "version": 3
   },
   "file_extension": ".py",
   "mimetype": "text/x-python",
   "name": "python",
   "nbconvert_exporter": "python",
   "pygments_lexer": "ipython3",
   "version": "3.8.9-final"
  },
  "orig_nbformat": 2,
  "kernelspec": {
   "name": "python38964bit38928c1f4e7a1764c27a8b6633a99b8a241",
   "display_name": "Python 3.8.9 64-bit ('3.8.9')"
  }
 },
 "nbformat": 4,
 "nbformat_minor": 2,
 "cells": [
  {
   "cell_type": "code",
   "execution_count": 5,
   "metadata": {},
   "outputs": [
    {
     "output_type": "stream",
     "name": "stdout",
     "text": [
      "3148\n"
     ]
    }
   ],
   "source": [
    "# перевод числа в СИ\n",
    "value = 1000\n",
    "sys = 16\n",
    "result = ''\n",
    "while value != 0:\n",
    "    result = str(value % sys) + result\n",
    "    value = value // sys\n",
    "print(result)"
   ]
  },
  {
   "source": [
    "# проверить число на одинаковые цифры\n",
    "value = '1111'\n",
    "len(value) == value.count(value[0])"
   ],
   "cell_type": "code",
   "metadata": {},
   "execution_count": null,
   "outputs": []
  },
  {
   "source": [
    "n = 0\n",
    "d = set()\n",
    "st = 0\n",
    "print(d)\n",
    "s = 'МОЛОКО'\n",
    "for a in s:\n",
    "    for b in s:\n",
    "        for c in s:\n",
    "            for k in s:\n",
    "                for e in s:\n",
    "                    for f in s:\n",
    "                        st = a + b + c + k + e + f\n",
    "                        if st.count('М') == s.count('М') and st.count('О') == s.count('О') and st.count('Л') == s.count('Л') and st.count('К') == s.count('К'):\n",
    "                            d.add(st)\n",
    "print(d)\n",
    "print(len(d))"
   ],
   "cell_type": "code",
   "metadata": {},
   "execution_count": 17,
   "outputs": [
    {
     "output_type": "stream",
     "name": "stdout",
     "text": [
      "set()\n{'МКОООЛ', 'КОМЛОО', 'МООЛОК', 'ОМООЛК', 'ООМОКЛ', 'КМЛООО', 'КОООЛМ', 'КОООМЛ', 'ОЛКОМО', 'ОМКОЛО', 'КЛОООМ', 'МОКОЛО', 'КООМЛО', 'ОКОМОЛ', 'ООЛОКМ', 'ЛООКМО', 'КООМОЛ', 'МООКОЛ', 'ОМЛКОО', 'МОЛОКО', 'ОКЛООМ', 'ЛОМКОО', 'МОООЛК', 'ОЛМОКО', 'КЛОМОО', 'ОКМЛОО', 'КОМООЛ', 'ОКОМЛО', 'МОООКЛ', 'ЛОООМК', 'ОМОКОЛ', 'ОЛОКМО', 'МОКООЛ', 'ЛОООКМ', 'МКЛООО', 'ООЛМОК', 'ООМКОЛ', 'МООКЛО', 'ОКООМЛ', 'ОМОКЛО', 'ОКЛОМО', 'ЛКООМО', 'ООМОЛК', 'ОКМОЛО', 'ООКМЛО', 'МЛООКО', 'МЛКООО', 'ОМОЛОК', 'ООКОЛМ', 'ОМОЛКО', 'ОМКЛОО', 'ОКООЛМ', 'КОЛОМО', 'МЛОКОО', 'ОМООКЛ', 'ООЛОМК', 'КОЛМОО', 'ЛКОМОО', 'ОООМЛК', 'ООКМОЛ', 'ООМЛКО', 'ЛМОООК', 'МООЛКО', 'ООЛМКО', 'КМОЛОО', 'ОКЛМОО', 'ОЛКООМ', 'ОООМКЛ', 'КЛМООО', 'ООЛКМО', 'МОЛООК', 'ЛОМООК', 'КОЛООМ', 'МЛОООК', 'ЛООКОМ', 'ООКОМЛ', 'ЛОКООМ', 'ОМЛОКО', 'ЛООМОК', 'КМООЛО', 'КМОООЛ', 'ОЛМКОО', 'ОЛООКМ', 'ОКМООЛ', 'ОООЛКМ', 'ЛОКМОО', 'КООЛОМ', 'ООКЛМО', 'ОЛООМК', 'ЛОМОКО', 'ОМКООЛ', 'ООМКЛО', 'ООЛКОМ', 'МОЛКОО', 'ОЛОМКО', 'ЛООМКО', 'МКООЛО', 'ОМЛООК', 'ООМЛОК', 'ОООКЛМ', 'ОООЛМК', 'ОЛМООК', 'ЛКОООМ', 'ОЛОКОМ', 'МКОЛОО', 'ЛМООКО', 'ЛМОКОО', 'ЛМКООО', 'КЛООМО', 'МОКЛОО', 'ООКЛОМ', 'КООЛМО', 'ОООКМЛ', 'ЛОКОМО', 'ОЛКМОО', 'ОЛОМОК', 'ОКОЛОМ', 'ОКОЛМО', 'КОМОЛО', 'ЛКМООО'}\n120\n"
     ]
    }
   ]
  },
  {
   "cell_type": "code",
   "execution_count": 25,
   "metadata": {},
   "outputs": [
    {
     "output_type": "stream",
     "name": "stdout",
     "text": [
      "120\n"
     ]
    }
   ],
   "source": [
    "# определите максимально возможное количество цифр 3 которое может получиться в результате применения представленного ниже алгоритма в строке состояющей из 30 цифр, 30 цифр 4 и 30 цифр 5, идущих в произвольномм порядке\n",
    "s = '4' * 30 + '5' * 30 + '3' * 30\n",
    "while ('43' in s) or ('53' in s):\n",
    "  if '43' in s:\n",
    "    s = s.replace('43', '33', 1)\n",
    "  else:\n",
    "    s = s.replace('53', '433', 1)\n",
    "print(s.count('3'))"
   ]
  },
  {
   "cell_type": "code",
   "execution_count": null,
   "metadata": {},
   "outputs": [],
   "source": [
    "# Узнать длину самого длинного числа из строчки\n",
    "def fun(x):\n",
    "    a = 0\n",
    "    while x > 0:\n",
    "        a += 1 \n",
    "        x //= 10\n",
    "    return a\n",
    "    \n",
    "max_value = 0\n",
    "value1 = '123 123456'\n",
    "value1 = value1.split()\n",
    "for i in value1:\n",
    "    if fun(int(i)) > max_value:\n",
    "        max_value = fun(int(i))\n",
    "print(max_value)"
   ]
  },
  {
   "cell_type": "code",
   "execution_count": 8,
   "metadata": {},
   "outputs": [
    {
     "output_type": "stream",
     "name": "stdout",
     "text": [
      "777\n"
     ]
    }
   ],
   "source": [
    "# какая строка получится в результате применения приведённой ниже программы к строке, состояющей из 128 идущих подряд \"4\" и следом идущих подряд 67 \"7\". В ответ запишите полученную строку\n",
    "s = '4' * 128 + '7' * 67\n",
    "while ('444' in s) or ('7777' in s):\n",
    "  if '444' in s:\n",
    "    s = s.replace('444', '7', 1)\n",
    "  else:\n",
    "    s = s.replace('7777', '44', 1)\n",
    "print(s)"
   ]
  }
 ]
}